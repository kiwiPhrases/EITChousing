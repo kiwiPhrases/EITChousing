{
 "cells": [
  {
   "cell_type": "markdown",
   "metadata": {},
   "source": [
    "#### EITC Housing Benefits\n",
    "In this notebook, we try to estimate the cost of a hypothetical EITC program to aid with rental housing payments. The aim is to supply a family with enough EITC to have them pay no more than 30% of their income for housing. Namely, the algorithm we implement is as follows:\n",
    "\n",
    "Let $y_i$ denote the income of family $i$. Furthermore, suppose that family $i$ has characteristics married $s \\in \\{0,1\\}$ and children $c \\in \\{0,\\dots, 3\\}$. Suppose $y_i$ is such that it qualifies family $i$ for $e_i = e(y_i,s,c)$ amount of EITC benefits. Finally, suppose that family $i$ lives in location $l$ and pays rent $r$ for a $b\\in \\{0,\\dots,4\\}$ bedroom housing unit. Then, under our scheme, family $i$ will recieve additional EITC housing benefits $h$ of:\n",
    "\n",
    "$$h = max(r_{l,b} - .3(y_i+e_i), 0 )$$\n",
    "\n",
    "#### Data\n",
    "We have 3 datasets containing the following information:\n",
    "\n",
    "1. Number of EITC recipients in 356 metros per income bracket. \n",
    "2. Number of EITC recipients in 356 metros per number of children.\n",
    "3. Amount of EITC benefits one recieves for various income levels and family characteristics (ie marriage and number of childre)\n",
    "4. The FMRs in 356 metros per number of bedrooms of the housing unit.\n",
    "\n",
    "#### Assumptions\n",
    "1. Two datasets, taxes and FMRs, are merged based on their CDSA codes but not all of the codes match. Namely, the tax data contains 381 metros but only 351 of them match to the FMR data. We are able to match an additional 5 CDSA codes for a total of 356 metros. However, there is no guarantee that the additional 5 metros match precisely with the metro of the Brookings data. For example, the FMR data contain a CDSA as 'Santa Barbara-Santa Maria-Goleta' while the tax has CDSA 'Santa Maria-Santa Barbara'. clearly, the FMR area is larger but in adding the 5 metros, we disregard this discrepancy. \n",
    "\n",
    "2. We have a distribution of files incomes in each metro area. The distributions are binned in increments of \\$5k up to \\$40k and then are binned at \\$10k increments. Since we only have the number of people who filed within each bin, we assume a uniform distribution of incomes in each bin and use the bin mean as the representative income for that bin. However, the highest income for which EITC benefits are given is \\$52400k but we must rely on \\$55k. The latter will overestimate the income and number of EITC recipients in that bin. One proposal to mediate that is to divide the bin \\$50-\\$60k in half and to use \\$52500 as the median and half the number of \\$50-\\$60k as the filers.\n",
    "\n",
    "3. We do not have any figures on marriage but need to differentiate between married and unmarried families. Consequently, we employ *1-50.2% -*figure from some Christian Science article*- as the proportion of adults married. In doing so, we must assume that marriage rates across the income distribution, number of children, and metros do not vary. \n",
    "\n",
    "4. Both FMR and EITC data are for year 2014 whereas the tax data is for year 2013. Thus, we assume that FMRs and EITC benefits do not differ drastically between 2013 and 2014. \n",
    "\n",
    "5. We only have numbers aggregated based on children and based on income bins but not across both; therefore, to estimate the proportion of families with each child type in each income bin, we assume that the number of children a family has does not vary across the income distributions. \n",
    "\n",
    "6. Consider the following variables: \n",
    "\n",
    "  * the number $n_{c,l}$ of EITC eligible families in metro $l$ and with number of children $c\\in \\{0,1,2,3+\\}$\n",
    "  * the number $m_{b,l}$ of EITC filers in each metro $l$ and income bin $b \\in \\{1,2,\\dots, 10\\}$\n",
    "\n",
    "  The tax data contains two sets of numbers data: 1) the number $n_l = \\sum_{c} n_{c,l}$ of EITC eligible people in each metro for each family type 2) the number $m_l = \\sum_{b} m_{b,l}$ of families who filed for EITC in each income bracket. Note $n_l \\geq m_l \\quad \\forall l$. To acquire the number of family types in each income bracket, we calculate\n",
    "\n",
    "  $$p_{l,c} = \\frac{n_{l,c}}{n_{l}}$$\n",
    "\n",
    "  then compute \n",
    "\n",
    "  $$k_{c,l,b} = p_{l,c} \\times m_{b,l}$$\n",
    "\n",
    "  Where $k_{c,l,b}$ is the number of families with children $c$ and in income bin $b$ in metro $l$. Of course, for this we must assume that the proportions among the eligible hold equally among those who actually file. Finally, let $T(p_{l,c})$ be the total cost calculated using eligible counts and let $T(p_{l,b})$ be that total cost calculated using bin proportions then \n",
    "$$T(p_{l,c}) \\geq T(p_{l,b})$$"
   ]
  },
  {
   "cell_type": "code",
   "execution_count": 1,
   "metadata": {
    "collapsed": true
   },
   "outputs": [],
   "source": [
    "##Load modules and set data path:\n",
    "import pandas as pd\n",
    "import numpy as np\n",
    "import re\n",
    "data_path = \"C:/Users/SpiffyApple/Documents/USC/RaphaelBostic\""
   ]
  },
  {
   "cell_type": "code",
   "execution_count": 2,
   "metadata": {
    "collapsed": true
   },
   "outputs": [],
   "source": [
    "#################################################################\n",
    "################### load tax data ###############################\n",
    "#upload tax data\n",
    "tx = pd.read_csv(\"/\".join([data_path, \"metro_TY13.csv\"]))\n",
    "\n",
    "#there is some weird formatting in the data due to excel -> fix:\n",
    "tx['cbsa'] = tx.cbsa.apply(lambda x: re.sub(\"=|\\\"\", \"\",x))\n",
    "\n",
    "#numerous numerical column entries have commas -> fix:\n",
    "tx.iloc[:,3:] = tx.iloc[:,3:].replace(\",\", \"\",regex=True).astype(np.int64)\n",
    "\n",
    "#set the cbsa as the dataframe index:\n",
    "tx.set_index('cbsa', inplace=True)"
   ]
  },
  {
   "cell_type": "markdown",
   "metadata": {},
   "source": [
    "### Caveat:\n",
    "The cell below is the longest running part of this code because we must interact with excel, individually load 9 sheets, and then concatenate them into a single dataset. "
   ]
  },
  {
   "cell_type": "code",
   "execution_count": 3,
   "metadata": {
    "collapsed": true
   },
   "outputs": [],
   "source": [
    "#################################################################\n",
    "###################### Read EITC data ###########################\n",
    "##parse the EITC data:\n",
    "eitc = pd.ExcelFile(\"/\".join([data_path, \"EITC Calculator-2-14.xlsx\"]))\n",
    "sheets = eitc.sheet_names\n",
    "eitc.close()\n",
    "\n",
    "eitc_dict = pd.read_excel(\"/\".join([data_path, \"EITC Calculator-2-14.xlsx\"]), sheetname =  sheets[9:17], skiprows = 14 )\n",
    "\n",
    "eitc = pd.concat(eitc_dict)"
   ]
  },
  {
   "cell_type": "markdown",
   "metadata": {},
   "source": [
    "### Fair Housing Share\n",
    "EITC data contain the amount of EITC benefits a family recieves for a given income level. The goal here is to get a family's total income and what would be considered a fair share of income for housing. This is where we perform following aforementioned calculation:\n",
    "\n",
    "$$\\text{total income} = y_i(m,c) + e_i(m,c)$$\n",
    "$$\\text{housing share} = .3\\times \\text{ total income} $$"
   ]
  },
  {
   "cell_type": "code",
   "execution_count": 4,
   "metadata": {
    "collapsed": true
   },
   "outputs": [],
   "source": [
    "#################################################################\n",
    "################### Process EITC data ###########################\n",
    "eitc = eitc.iloc[:,[0,40]]\n",
    "eitc.dropna(inplace=True)\n",
    "eitc = eitc.loc[eitc[2014]>0,:]\n",
    "eitc.reset_index(level=0, inplace=True)\n",
    "eitc.reset_index(drop=True, inplace=True)\n",
    "#eitc['num_kids'] = eitc.level_0.str.extract(\"(\\d)\", expand=False)\n",
    "#eitc['married'] = eitc.level_0.str.contains(\"Married\").astype(int)\n",
    "\n",
    "#calculate fair share of income for housing\n",
    "eitc['total_income'] = eitc['Nominal Earnings']+eitc[2014]\n",
    "eitc['haus_share'] = eitc.total_income*.3\n",
    "\n",
    "#remove \"Nominal\" from family description.\n",
    "eitc.level_0.replace(\", Nominal\", \"\", regex=True, inplace=True)"
   ]
  },
  {
   "cell_type": "markdown",
   "metadata": {},
   "source": [
    "### Mapping children to bedrooms\n",
    "In order to estimate relate FMR data to family types, we must map the number of bedrooms to the number of children and marriage. Here, we assume that marriage does not make a difference, thus, the mapping only varies on the number of children in the family. Presently, the following is implemented:\n",
    "\n",
    "$$\n",
    "\\begin{array}{ccc}\n",
    " \\text{num of children} & & \\text{num of bedrooms} \\\\\n",
    " 0 &  \\to & 1 \\\\\n",
    " 1 & \\vdots & 2 \\\\\n",
    " 2 &  & 3 \\\\\n",
    " 3+ & \\to & 3 \\\\\n",
    "\\end{array}\n",
    "$$"
   ]
  },
  {
   "cell_type": "code",
   "execution_count": 5,
   "metadata": {
    "collapsed": true
   },
   "outputs": [],
   "source": [
    "##Map FMR data to EITC data (Variable)\n",
    "#assigned bedrooms to child counts\n",
    "repl_dict ={'Married, 0 Kid':'fmr1', 'Married, 1 Kid':'fmr2', 'Married, 2 Kids':'fmr2',\n",
    "       'Married, 3 Kids':'fmr3', 'Single, 0 Kid':'fmr1', 'Single, 1 Kid':'fmr2',\n",
    "       'Single, 2 Kids':'fmr2', 'Single, 3 Kids':'fmr3'}\n",
    "\n",
    "eitc['r_type'] = eitc.level_0.replace(repl_dict)\n",
    "\n",
    "haus_share = eitc[['level_0', 'haus_share', 'r_type', 'Nominal Earnings']]"
   ]
  },
  {
   "cell_type": "code",
   "execution_count": 7,
   "metadata": {
    "collapsed": false
   },
   "outputs": [
    {
     "name": "stdout",
     "output_type": "stream",
     "text": [
      "The number of CBSAs between tax and fmr data matches?: True\n"
     ]
    }
   ],
   "source": [
    "#################################################################\n",
    "################# Read & process fmr data  ######################\n",
    "#read in fmr data\n",
    "fmr = pd.read_excel(\"/\".join([data_path, \"FY2014_4050_RevFinal.xls\"]))\n",
    "\n",
    "#drop non Metro areas:\n",
    "fmr = fmr[fmr.Metro_code.str.contains(\"METRO\")]\n",
    "\n",
    "#extract cbsa code:\n",
    "fmr['cbsa'] = fmr.Metro_code.str.extract(\"O(\\d{4,5})[MN]\", expand=False)\n",
    "\n",
    "#edit FMR CBSA codes to match tax CBSA codes:\n",
    "cbsa_chng_map = {'14060':'14010', '29140':'29200', '31100':'31080', '42060':'42200', '44600':'48260'}\n",
    "fmr.cbsa.replace(cbsa_chng_map, inplace=True)\n",
    "\n",
    "#drop duplicates based on cbsa code:\n",
    "#fmr = fmr.drop_duplicates(['cbsa','Areaname'])\n",
    "fmr = fmr.drop_duplicates('cbsa')\n",
    "\n",
    "fmr.reset_index(drop=True, inplace=True)\n",
    "\n",
    "#clean up the area names by removing \"MSA and HUD Metro FMR Area\"\n",
    "fmr['Areaname'] = fmr.Areaname.apply(lambda x: re.sub(\" MSA| HUD Metro FMR Area\", \"\", x))\n",
    "\n",
    "#set an interpratable index\n",
    "fmr.set_index(\"cbsa\", inplace=True)\n",
    "\n",
    "#fetch columns that pertain to FMR figures\n",
    "fmr_cols = fmr.columns[fmr.columns.str.contains(\"fmr\\d\")]\n",
    "\n",
    "#reformat monthly fmr to annual cost of rent\n",
    "fmr[fmr_cols] = fmr[fmr_cols]*12\n",
    "\n",
    "#subset to only matching cbsa codes between tax and fmr data\n",
    "common_cbsa = fmr.index.intersection(tx.index)\n",
    "\n",
    "fmr = fmr.loc[common_cbsa]\n",
    "tx = tx.loc[common_cbsa]\n",
    "\n",
    "print(\"The number of CBSAs between tax and fmr data matches?:\", fmr.shape[0] == tx.shape[0])"
   ]
  },
  {
   "cell_type": "markdown",
   "metadata": {},
   "source": [
    "### Calculate amount of EITC housing aid each family type in each metro recieves"
   ]
  },
  {
   "cell_type": "code",
   "execution_count": 9,
   "metadata": {
    "collapsed": true
   },
   "outputs": [],
   "source": [
    "######################################\n",
    "##0. Define function to calculate eitc\n",
    "######################################\n",
    "def calc_haus_eitc(group, income):\n",
    "    \"\"\"\n",
    "    INPUT:\n",
    "        1. group - (pd.df) subset of data frame by family type\n",
    "        2. income - (int64) total income the family earns\n",
    "    OUTPUT:\n",
    "        1. aid - (pd.Series) a series containing eitc housing aid for each family type for a given income\n",
    "    DESCRIPTION:\n",
    "        The function is basically the max(r - (y+e)*.3, 0) but if we are at income levels that don't qualify\n",
    "        a family type for EITC benefits then we need to output a corresponding vector of NAN values so that\n",
    "        the groupby operation doesn't error out on its concatenation step.\n",
    "    \"\"\"\n",
    "    details = group[group['Nominal Earnings'] == income]\n",
    "    if details.shape[0] > 0:\n",
    "        aid = fmr[details.r_type]-details.haus_share.iloc[0]\n",
    "        aid[aid<0] = 0\n",
    "    else:\n",
    "        aid = pd.DataFrame(np.array([np.nan]*fmr.shape[0]))\n",
    "        aid.index = fmr.index\n",
    "        #aid.columns = [group.r_type.iloc[0]]\n",
    "    aid.columns = ['aid']\n",
    "    return(aid)"
   ]
  },
  {
   "cell_type": "code",
   "execution_count": 8,
   "metadata": {
    "collapsed": true
   },
   "outputs": [],
   "source": [
    "######################################\n",
    "##I. Make a vector of income bin means\n",
    "######################################\n",
    "min_earn = 2500\n",
    "mid_earn = 37500\n",
    "step = 5000\n",
    "income_vect = np.linspace(min_earn,mid_earn,((mid_earn-min_earn)/step+1))\n",
    "\n",
    "add_vect = [45000,52000]\n",
    "income_vect = np.concatenate([income_vect, add_vect])"
   ]
  },
  {
   "cell_type": "code",
   "execution_count": 10,
   "metadata": {
    "collapsed": true
   },
   "outputs": [],
   "source": [
    "################################################\n",
    "##II. Group by family type and loop over incomes\n",
    "################################################\n",
    "groups = haus_share.groupby(by = 'level_0')\n",
    "\n",
    "#place eachincome is placed into a dictionary entry\n",
    "aid_incomes = {}\n",
    "for income in income_vect:\n",
    "    aid_per_income = groups.apply(calc_haus_eitc, income=income)\n",
    "    aid_incomes[income] = aid_per_income.unstack(level=0)\n",
    "    \n",
    "#concatenate dictionary into a 2-indexed data frame (flattened 3D)    \n",
    "one_family_aid = pd.concat(aid_incomes)"
   ]
  },
  {
   "cell_type": "markdown",
   "metadata": {},
   "source": [
    "### Calculate families of each type in each income bin"
   ]
  },
  {
   "cell_type": "code",
   "execution_count": 12,
   "metadata": {
    "collapsed": false
   },
   "outputs": [
    {
     "name": "stdout",
     "output_type": "stream",
     "text": [
      "Prop accounted for in income distribution counts\n",
      " 0.00    0.876222\n",
      "0.25    0.972034\n",
      "0.50    0.984475\n",
      "0.75    0.990173\n",
      "1.00    0.998135\n",
      "dtype: float64\n"
     ]
    }
   ],
   "source": [
    "#################################################################\n",
    "############### 0. pre-checks and params ########################\n",
    "#set proportion of ppl married\n",
    "prop_married = 1-50.2/100    #some Christian Science article (not sure if credible source)\n",
    "\n",
    "#for convenience, extract cols corresponding with number of ppl filed for EITC in each income bracket\n",
    "eagi_cols = tx.columns[tx.columns.str.contains(\"EAGI\")]\n",
    "\n",
    "#cut the 50-60 bin number in half according to assumptions\n",
    "tx['EAGI50_13'] = tx['EAGI50_13']/2\n",
    "\n",
    "#it doesn't seem that the total eligible for eitc matches the distributional count of incomes\n",
    "print(\"Prop accounted for in income distribution counts\\n\",(tx[eagi_cols].sum(axis=1)/tx.eitc13).quantile(np.linspace(0,1,5)))"
   ]
  },
  {
   "cell_type": "code",
   "execution_count": 16,
   "metadata": {
    "collapsed": false
   },
   "outputs": [],
   "source": [
    "#################################################################\n",
    "################ I. compute proportions #########################\n",
    "eqc_cols = tx.columns[tx.columns.str.contains(\"EQC\\d_\")]\n",
    "\n",
    "chld_prop = tx[eqc_cols].div(tx.eitc13,axis=0)\n",
    "m_chld_prop = chld_prop*prop_married\n",
    "s_chld_prop = chld_prop - m_chld_prop\n",
    "\n",
    "m_chld_prop.columns = m_chld_prop.columns + \"_married\"\n",
    "s_chld_prop.columns = s_chld_prop.columns + \"_single\"\n",
    "\n",
    "tx = pd.concat([tx, m_chld_prop,s_chld_prop],axis=1)\n",
    "eqc_cols = tx.columns[tx.columns.str.contains('EQC\\d_13_married|EQC\\d_13_single', regex=True)]"
   ]
  },
  {
   "cell_type": "code",
   "execution_count": 17,
   "metadata": {
    "collapsed": false
   },
   "outputs": [],
   "source": [
    "#################################################################\n",
    "############### II. multiply to across ##########################\n",
    "#here I make a 3D matrix with metros, bins, types on each axis \n",
    "#then flatten it into a 2D data frame. \n",
    "\n",
    "#Implicit broadcasting across two 2D matrices into a 3D matrix\n",
    "C_3D=np.einsum('ij,ik->jik',tx[eagi_cols],tx[eqc_cols])\n",
    "\n",
    "#flatten into a pandas dataframe\n",
    "C_2D=pd.Panel(np.rollaxis(C_3D,2)).to_frame()\n",
    "\n",
    "C_2D.columns = one_family_aid.columns\n",
    "\n",
    "C_2D.index = one_family_aid.index"
   ]
  },
  {
   "cell_type": "markdown",
   "metadata": {},
   "source": [
    "### Calculate total cost"
   ]
  },
  {
   "cell_type": "code",
   "execution_count": 20,
   "metadata": {
    "collapsed": false
   },
   "outputs": [],
   "source": [
    "##################################################################\n",
    "############### aggregate aid and filers #########################\n",
    "disaggregated =np.multiply(C_2D, one_family_aid)\n",
    "\n",
    "#summing once gives us metro-level totals -> summing that gives us total\n",
    "total = disaggregated.sum(axis=1).sum()"
   ]
  },
  {
   "cell_type": "code",
   "execution_count": 26,
   "metadata": {
    "collapsed": false
   },
   "outputs": [
    {
     "name": "stdout",
     "output_type": "stream",
     "text": [
      "Total EITC Housing Aid cost: 119.17 billion\n"
     ]
    }
   ],
   "source": [
    "print(\"Total EITC Housing Aid cost: %.2f billion\" %(total/1e9))"
   ]
  },
  {
   "cell_type": "code",
   "execution_count": null,
   "metadata": {
    "collapsed": true
   },
   "outputs": [],
   "source": []
  }
 ],
 "metadata": {
  "anaconda-cloud": {},
  "kernelspec": {
   "display_name": "Python [Root]",
   "language": "python",
   "name": "Python [Root]"
  },
  "language_info": {
   "codemirror_mode": {
    "name": "ipython",
    "version": 3
   },
   "file_extension": ".py",
   "mimetype": "text/x-python",
   "name": "python",
   "nbconvert_exporter": "python",
   "pygments_lexer": "ipython3",
   "version": "3.5.1"
  }
 },
 "nbformat": 4,
 "nbformat_minor": 0
}
